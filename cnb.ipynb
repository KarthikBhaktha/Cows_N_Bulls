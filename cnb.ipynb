{
 "cells": [
  {
   "cell_type": "markdown",
   "metadata": {},
   "source": [
    "### Cows N Bulls\n",
    "\n",
    "- Computer chooses a 4 letter word at random whihc wont be visible to the player.\n",
    "- Player needs to guess the word\n",
    "- Player gets 1 cow for every alphabet in the word he/she guesses if the alphabets exist at a different position compared to the randomly chosen words by the computer.\n",
    "- Player gets 1 bull for every alphabet that is in the same position as that of the randomly chosen word. The player gets 4 Bulls which is a win, i.e the player guessed the correct word.\n",
    "    - Example 1: if the word computer chose was **\"TALK\"** if the player enters the word **\"POKE\"**. here there is 1 alphabet **K** that is in different position. Hence the player will get 1 Cow.\n",
    "    - Example 2: If the player enters the word **\"WALL\"** in this case the player will get 2 bulls\n"
   ]
  },
  {
   "cell_type": "code",
   "execution_count": 38,
   "metadata": {},
   "outputs": [],
   "source": [
    "import pandas as pd\n",
    "import numpy as np\n",
    "from collections import defaultdict\n",
    "import os\n",
    "import re\n",
    "import random"
   ]
  },
  {
   "cell_type": "code",
   "execution_count": 39,
   "metadata": {},
   "outputs": [],
   "source": [
    "df = pd.read_csv(\"words.csv\",encoding = \"ISO-8859-1\",header=None)\n",
    "# Delete the rows with labels 0,1,5\n",
    "df.drop([0], axis=0, inplace=True)\n",
    "# Delete Columns \n",
    "df.drop(df.columns[1:], axis=1,inplace=True)\n",
    "# Removing duplicates\n",
    "df.drop_duplicates(inplace=True)\n",
    "#Removing null values\n",
    "df.dropna(inplace=True)\n",
    "#converting into numpy array\n",
    "df[0] = df[0].astype(str)\n",
    "array = np.array(df)\n",
    "#converting in to list\n",
    "flat_list = []\n",
    "for sublist in array:\n",
    "    for item in sublist:\n",
    "        flat_list.append(item)\n"
   ]
  },
  {
   "cell_type": "code",
   "execution_count": 40,
   "metadata": {},
   "outputs": [
    {
     "name": "stdout",
     "output_type": "stream",
     "text": [
      "tint\n"
     ]
    }
   ],
   "source": [
    "''' Write a function that takes in '''\n",
    "\n",
    "\n",
    "# this is to choose a random number\n",
    "# the number 3976 is the total number of words in the list.\n",
    "# that is why we choose the random word using index in between 0, 3977.\n",
    "random_index = random.randint(0,3977)\n",
    "random_word = flat_list[random_index]\n",
    "print(random_word)"
   ]
  },
  {
   "cell_type": "code",
   "execution_count": 17,
   "metadata": {},
   "outputs": [
    {
     "name": "stdout",
     "output_type": "stream",
     "text": [
      "Please enter a valid four letter word: adklnk\n",
      "Please enter a valid 4 alphabet word\n",
      "Please enter a valid four letter word: dsklv\n",
      "Please enter a valid 4 alphabet word\n",
      "Please enter a valid four letter word: lksdnf\n",
      "Please enter a valid 4 alphabet word\n",
      "Please enter a valid four letter word: \n",
      "Please enter a valid 4 alphabet word\n",
      "Please enter a valid four letter word: nksd v\n",
      "Please enter a valid 4 alphabet word\n",
      "Please enter a valid four letter word: kj sdv\n",
      "Please enter a valid 4 alphabet word\n",
      "Please enter a valid four letter word: gaun\n",
      "Your input was: gaun\n"
     ]
    }
   ],
   "source": [
    "'''\n",
    "This is a function that:\n",
    "- accepts 4 letter alphabets as an input string\n",
    "- checks if the word is valid\n",
    "- converts it into all lowercase\n",
    "- checks if the length of the word is 4\n",
    "'''\n",
    "while True:\n",
    "    \n",
    "    user_word= input(\"Please enter a valid four letter word: \").lower()\n",
    "#check if the imput string is valid\n",
    "    if user_word not in flat_list:\n",
    "        print('Please enter a valid 4 alphabet word')\n",
    "    elif not re.match(\"^[A-Za-z]*$\", user_word):\n",
    "        print( \"Error! Only 4 letters and alphabets a-z allowed !\")\n",
    "    #exit()\n",
    "    elif len(user_word) > 4:\n",
    "        print (\"Error! Only 4 letters and alphabets a-z allowed !\")\n",
    "    else:\n",
    "        break\n",
    "    #exit()\n",
    "\n",
    "print (\"Your input was:\", user_word)\n",
    "#  add a function here which will compare the input string\n",
    "# with the flat_list check whether they already exist to avoid "
   ]
  },
  {
   "cell_type": "code",
   "execution_count": 18,
   "metadata": {},
   "outputs": [
    {
     "name": "stdout",
     "output_type": "stream",
     "text": [
      "{'g': [0], 'a': [1], 'u': [2], 'n': [3]}\n"
     ]
    }
   ],
   "source": [
    "word_dict = defaultdict(list)\n",
    "\n",
    "for idx, char in enumerate(random_word):\n",
    "    word_dict[char].append(idx)\n",
    "\n",
    "word_dict = dict(word_dict)\n",
    "print(word_dict)\n"
   ]
  },
  {
   "cell_type": "code",
   "execution_count": 19,
   "metadata": {},
   "outputs": [
    {
     "name": "stdout",
     "output_type": "stream",
     "text": [
      "{'g': [0], 'a': [1], 'u': [2], 'n': [3]}\n"
     ]
    }
   ],
   "source": [
    "comp_dict = defaultdict(list)\n",
    "\n",
    "for idx, char in enumerate(comp):\n",
    "    comp_dict[char].append(idx)\n",
    "\n",
    "comp_dict = dict(comp_dict)\n",
    "print(comp_dict)"
   ]
  },
  {
   "cell_type": "code",
   "execution_count": 20,
   "metadata": {},
   "outputs": [
    {
     "name": "stdout",
     "output_type": "stream",
     "text": [
      "{'g': [0], 'a': [1], 'u': [2], 'n': [3]} {'g': [0], 'a': [1], 'u': [2], 'n': [3]}\n"
     ]
    }
   ],
   "source": [
    "print(word_dict,comp_dict)\n"
   ]
  },
  {
   "cell_type": "code",
   "execution_count": 14,
   "metadata": {},
   "outputs": [
    {
     "data": {
      "text/plain": [
       "0"
      ]
     },
     "execution_count": 14,
     "metadata": {},
     "output_type": "execute_result"
    }
   ],
   "source": [
    "word_dict['g'][0]"
   ]
  },
  {
   "cell_type": "code",
   "execution_count": 21,
   "metadata": {},
   "outputs": [
    {
     "name": "stdout",
     "output_type": "stream",
     "text": [
      "You have got 4 Bulls\n"
     ]
    }
   ],
   "source": [
    "# fucntion that counts the number of cows and bulls.\n",
    "#word_dict, comp_dict\n",
    "bull_cntr = 0\n",
    "cow_cntr = 0\n",
    "\n",
    "if word_dict == comp_dict:\n",
    "    print('You have got 4 Bulls')\n",
    "else:\n",
    "    for key in word_dict.keys():# will iterate over the dictionary and loop throgh th keys and \n",
    "        bull = False\n",
    "        if key in comp_dict:\n",
    "            word_dict_ptr,comp_dict_ptr = 0,0\n",
    "            while (word_dict_ptr < len(word_dict[key]) and comp_dict_ptr < len(comp_dict[key])):\n",
    "                if word_dict[key][word_dict_ptr] == comp_dict[key][comp_dict_ptr]:\n",
    "                    bull = True\n",
    "                    break\n",
    "                else:\n",
    "                    if word_dict[key][word_dict_ptr] < comp_dict[key][comp_dict_ptr]:\n",
    "                        word_dict_ptr += 1\n",
    "                    else:\n",
    "                        comp_dict_ptr += 1\n",
    "            if bull == True:\n",
    "                bull_cntr += 1\n",
    "            else:    \n",
    "                cow_cntr += 1\n",
    "    print(\"no of bull: \",bull_cntr ,\"No. of cow:\", cow_cntr)"
   ]
  }
 ],
 "metadata": {
  "kernelspec": {
   "display_name": "Python 3",
   "language": "python",
   "name": "python3"
  },
  "language_info": {
   "codemirror_mode": {
    "name": "ipython",
    "version": 3
   },
   "file_extension": ".py",
   "mimetype": "text/x-python",
   "name": "python",
   "nbconvert_exporter": "python",
   "pygments_lexer": "ipython3",
   "version": "3.6.4"
  }
 },
 "nbformat": 4,
 "nbformat_minor": 2
}
