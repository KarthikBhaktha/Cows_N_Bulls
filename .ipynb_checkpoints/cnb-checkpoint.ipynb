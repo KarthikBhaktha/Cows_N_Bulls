{
 "cells": [
  {
   "cell_type": "markdown",
   "metadata": {},
   "source": [
    "### Cows N Bulls\n",
    "\n",
    "- Computer chooses a 4 letter word at random whihc wont be visible to the player.\n",
    "- Player needs to guess the word\n",
    "- Player gets 1 cow for every alphabet in the word he/she guesses if the alphabets exist at a different position compared to the randomly chosen words by the computer.\n",
    "- Player gets 1 bull for every alphabet that is in the same position as that of the randomly chosen word. The player gets 4 Bulls which is a win, i.e the player guessed the correct word.\n",
    "    - Example 1: if the word computer chose was **\"TALK\"** if the player enters the word **\"POKE\"**. here there is 1 alphabet **K** that is in different position. Hence the player will get 1 Cow.\n",
    "    - Example 2: If the player enters the word **\"WALL\"** in this case the player will get 2 bulls\n"
   ]
  },
  {
   "cell_type": "code",
   "execution_count": 1,
   "metadata": {},
   "outputs": [],
   "source": [
    "import pandas as pd\n",
    "import numpy as np\n",
    "from collections import defaultdict\n",
    "import os\n",
    "import re"
   ]
  },
  {
   "cell_type": "code",
   "execution_count": 2,
   "metadata": {},
   "outputs": [],
   "source": [
    "df = pd.read_csv(\"words.csv\",encoding = \"ISO-8859-1\",header=None)"
   ]
  },
  {
   "cell_type": "code",
   "execution_count": 3,
   "metadata": {},
   "outputs": [],
   "source": [
    "# Delete the rows with labels 0,1,5\n",
    "df.drop([0], axis=0, inplace=True)\n",
    "# Delete Columns \n",
    "df.drop(df.columns[1:], axis=1,inplace=True)\n",
    "# Removing duplicates\n",
    "df.drop_duplicates(inplace=True)"
   ]
  },
  {
   "cell_type": "code",
   "execution_count": 4,
   "metadata": {},
   "outputs": [],
   "source": [
    "df.dropna(inplace=True)"
   ]
  },
  {
   "cell_type": "code",
   "execution_count": 5,
   "metadata": {},
   "outputs": [
    {
     "name": "stdout",
     "output_type": "stream",
     "text": [
      "       0\n",
      "1   jazz\n",
      "2   zizz\n",
      "3   buzz\n",
      "4   fuzz\n",
      "5   bazz\n",
      "6   fizz\n",
      "7   hajj\n",
      "8   juju\n",
      "9   quiz\n",
      "10  jeez\n"
     ]
    }
   ],
   "source": [
    "# checking the dataset\n",
    "print(df[:10])"
   ]
  },
  {
   "cell_type": "code",
   "execution_count": 6,
   "metadata": {},
   "outputs": [
    {
     "name": "stdout",
     "output_type": "stream",
     "text": [
      "[['jazz']\n",
      " ['zizz']\n",
      " ['buzz']\n",
      " ['fuzz']\n",
      " ['bazz']]\n"
     ]
    }
   ],
   "source": [
    "#converting into numpy array\n",
    "df[0] = df[0].astype(str)\n",
    "array = np.array(df)\n",
    "print(array[0:5])"
   ]
  },
  {
   "cell_type": "code",
   "execution_count": 26,
   "metadata": {},
   "outputs": [
    {
     "name": "stdout",
     "output_type": "stream",
     "text": [
      "jazz\n"
     ]
    }
   ],
   "source": [
    "flat_list = []\n",
    "for sublist in array:\n",
    "    for item in sublist:\n",
    "        flat_list.append(item)\n",
    "\n",
    "        \n",
    "'''\n",
    "Write a function to choose a word from the flat_list at random\n",
    "**future update** Let the player choose a dificulty level Easy Medium Hard. \n",
    "'''        \n",
    "word = flat_list[0]\n",
    "print(word)"
   ]
  },
  {
   "cell_type": "code",
   "execution_count": 47,
   "metadata": {},
   "outputs": [
    {
     "name": "stdout",
     "output_type": "stream",
     "text": [
      "Please enter a valid four letter word: last\n",
      "Your input was: last\n"
     ]
    }
   ],
   "source": [
    "'''\n",
    "This is a function that:\n",
    "- accepts 4 letter alphabets as an input string\n",
    "- checks if the word is valid\n",
    "- converts it into all lowercase\n",
    "- checks if the length of the word is 4\n",
    "'''\n",
    "\n",
    "comp= input(\"Please enter a valid four letter word: \").lower()\n",
    "#check if the imput string is valid\n",
    "if comp not in flat_list:\n",
    "        print('Please enter a valid word')\n",
    "elif not re.match(\"^[A-Za-z]*$\", comp):\n",
    "    print( \"Error! Only 4 letters and alphabets a-z allowed !\")\n",
    "    #exit()\n",
    "elif len(comp) > 4:\n",
    "    print (\"Error! Only 4 letters and alphabets a-z allowed !\")\n",
    "    #exit()\n",
    "\n",
    "print (\"Your input was:\", comp)\n",
    "#  add a function here which will compare the input string\n",
    "# with the flat_list check whether they already exist to avoid "
   ]
  },
  {
   "cell_type": "code",
   "execution_count": 48,
   "metadata": {},
   "outputs": [
    {
     "name": "stdout",
     "output_type": "stream",
     "text": [
      "<class 'str'>\n"
     ]
    }
   ],
   "source": [
    "print(type(word))"
   ]
  },
  {
   "cell_type": "code",
   "execution_count": 49,
   "metadata": {},
   "outputs": [
    {
     "name": "stdout",
     "output_type": "stream",
     "text": [
      "jazz last\n"
     ]
    }
   ],
   "source": [
    "print(word,comp)"
   ]
  },
  {
   "cell_type": "code",
   "execution_count": 50,
   "metadata": {},
   "outputs": [
    {
     "name": "stdout",
     "output_type": "stream",
     "text": [
      "{'j': [0], 'a': [1], 'z': [2, 3]}\n"
     ]
    }
   ],
   "source": [
    "word_dict = defaultdict(list)\n",
    "\n",
    "for idx, char in enumerate(word):\n",
    "    word_dict[char].append(idx)\n",
    "\n",
    "word_dict = dict(word_dict)\n",
    "print(word_dict)\n"
   ]
  },
  {
   "cell_type": "code",
   "execution_count": 51,
   "metadata": {},
   "outputs": [
    {
     "name": "stdout",
     "output_type": "stream",
     "text": [
      "{'l': [0], 'a': [1], 's': [2], 't': [3]}\n"
     ]
    }
   ],
   "source": [
    "comp_dict = defaultdict(list)\n",
    "\n",
    "for idx, char in enumerate(comp):\n",
    "    comp_dict[char].append(idx)\n",
    "\n",
    "comp_dict = dict(comp_dict)\n",
    "print(comp_dict)"
   ]
  },
  {
   "cell_type": "code",
   "execution_count": 52,
   "metadata": {},
   "outputs": [
    {
     "name": "stdout",
     "output_type": "stream",
     "text": [
      "{'j': [0], 'a': [1], 'z': [2, 3]} {'l': [0], 'a': [1], 's': [2], 't': [3]}\n"
     ]
    }
   ],
   "source": [
    "print(word_dict,comp_dict)"
   ]
  },
  {
   "cell_type": "code",
   "execution_count": 53,
   "metadata": {},
   "outputs": [
    {
     "name": "stdout",
     "output_type": "stream",
     "text": [
      "no of bull:  1 No. of cow: 0\n"
     ]
    }
   ],
   "source": [
    "# fucntion that counts the number of cows and bulls.\n",
    "#word_dict, comp_dict\n",
    "bull_cntr = 0\n",
    "cow_cntr = 0\n",
    "\n",
    "if word_dict == comp_dict:\n",
    "    print('You have got 4 Bulls')\n",
    "else:\n",
    "    for key in word_dict.keys():# it will iterate over the dictionary and will do it till it \n",
    "        bull = False\n",
    "        if key in comp_dict:\n",
    "            word_dict_ptr,comp_dict_ptr = 0,0\n",
    "            while (word_dict_ptr < len(word_dict[key]) and comp_dict_ptr < len(comp_dict[key])):\n",
    "                if word_dict[key][word_dict_ptr] == comp_dict[key][comp_dict_ptr]:\n",
    "                    bull = True\n",
    "                    break\n",
    "                else:\n",
    "                    if word_dict[key][word_dict_ptr] < comp_dict[key][comp_dict_ptr]:\n",
    "                        word_dict_ptr += 1\n",
    "                    else:\n",
    "                        comp_dict_ptr += 1\n",
    "            if bull == True:\n",
    "                bull_cntr += 1\n",
    "            else:    \n",
    "                cow_cntr += 1\n",
    "    print(\"no of bull: \",bull_cntr ,\"No. of cow:\", cow_cntr)"
   ]
  },
  {
   "cell_type": "code",
   "execution_count": null,
   "metadata": {},
   "outputs": [],
   "source": []
  },
  {
   "cell_type": "code",
   "execution_count": null,
   "metadata": {},
   "outputs": [],
   "source": []
  }
 ],
 "metadata": {
  "kernelspec": {
   "display_name": "Python 3",
   "language": "python",
   "name": "python3"
  },
  "language_info": {
   "codemirror_mode": {
    "name": "ipython",
    "version": 3
   },
   "file_extension": ".py",
   "mimetype": "text/x-python",
   "name": "python",
   "nbconvert_exporter": "python",
   "pygments_lexer": "ipython3",
   "version": "3.6.4"
  }
 },
 "nbformat": 4,
 "nbformat_minor": 2
}
